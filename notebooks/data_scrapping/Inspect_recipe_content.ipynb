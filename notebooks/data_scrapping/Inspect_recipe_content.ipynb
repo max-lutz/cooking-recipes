{
 "cells": [
  {
   "cell_type": "code",
   "execution_count": 1,
   "id": "a02b2873",
   "metadata": {},
   "outputs": [],
   "source": [
    "import os\n",
    "from pathlib import Path\n",
    "import pandas as pd\n",
    "import requests\n",
    "from bs4 import BeautifulSoup, SoupStrainer\n",
    "\n",
    "from selenium.webdriver import Chrome\n",
    "from selenium.webdriver.common.keys import Keys\n",
    "\n",
    "import time"
   ]
  },
  {
   "cell_type": "code",
   "execution_count": 4,
   "id": "12d2ebea",
   "metadata": {},
   "outputs": [],
   "source": [
    "DATA_PATH = Path.cwd().parent.parent / \"data\" / \"raw\""
   ]
  },
  {
   "cell_type": "code",
   "execution_count": 7,
   "id": "b97d0cfd",
   "metadata": {},
   "outputs": [],
   "source": [
    "recipes_urls = pd.read_csv(DATA_PATH / \"urls.csv\")\n",
    "recipes_urls = recipes_urls['url'].to_list()"
   ]
  },
  {
   "cell_type": "markdown",
   "id": "b4079ff2",
   "metadata": {},
   "source": [
    "## Display html of one page to see where to get the info\n",
    "\n",
    "need to make https://www.veganrecipeclub.org.uk/recipes/15-minute-flourless-choc-chip-banana-muffins/ work"
   ]
  },
  {
   "cell_type": "code",
   "execution_count": 10,
   "id": "2b0ea410",
   "metadata": {},
   "outputs": [
    {
     "data": {
      "text/plain": [
       "485"
      ]
     },
     "execution_count": 10,
     "metadata": {},
     "output_type": "execute_result"
    }
   ],
   "source": [
    "recipe = 'https://www.veganrecipeclub.org.uk/recipes/vegan-cherry-meringue-pie/'\n",
    "index = recipes_urls.index(recipe)\n",
    "index"
   ]
  },
  {
   "cell_type": "code",
   "execution_count": 12,
   "id": "2449b0a7",
   "metadata": {},
   "outputs": [],
   "source": [
    "page = requests.get(recipes_urls[index])\n",
    "soup = BeautifulSoup(page.content, 'html.parser')\n",
    "#print(soup.prettify())"
   ]
  },
  {
   "cell_type": "markdown",
   "id": "41fca54e",
   "metadata": {},
   "source": [
    "### Find the different section of the web page"
   ]
  },
  {
   "cell_type": "code",
   "execution_count": 15,
   "id": "9899325e",
   "metadata": {},
   "outputs": [
    {
     "data": {
      "text/plain": [
       "'Vegan Cherry Meringue Pie'"
      ]
     },
     "execution_count": 15,
     "metadata": {},
     "output_type": "execute_result"
    }
   ],
   "source": [
    "#Title\n",
    "soup.find_all(\"h1\")[0].get_text(strip=True)"
   ]
  },
  {
   "cell_type": "code",
   "execution_count": 16,
   "id": "92294614",
   "metadata": {},
   "outputs": [
    {
     "data": {
      "text/plain": [
       "[<p style=\"text-align: center; font-weight: bold;\">Preparation time</p>,\n",
       " <p style=\"text-align: center; font-weight: bold;\">Cook time</p>,\n",
       " <p style=\"text-align: center; font-weight: bold;\">Total time</p>,\n",
       " <p style=\"text-align: center; font-weight: bold;\">Meal</p>,\n",
       " <p style=\"text-align: center; font-weight: bold;\">Servings</p>,\n",
       " <p style=\"text-align: center; font-weight: bold;\">Ingredients</p>,\n",
       " <p style=\"text-align: center; font-weight: bold;\">Instructions</p>,\n",
       " <p style=\"text-align: center; font-weight: bold;\">Keywords</p>]"
      ]
     },
     "execution_count": 16,
     "metadata": {},
     "output_type": "execute_result"
    }
   ],
   "source": [
    "soup.find_all(\"p\", {\"style\": \"text-align: center; font-weight: bold;\"})"
   ]
  },
  {
   "cell_type": "code",
   "execution_count": 17,
   "id": "f196c275",
   "metadata": {},
   "outputs": [
    {
     "data": {
      "text/plain": [
       "{'Preparation time': 0,\n",
       " 'Cook time': 1,\n",
       " 'Total time': 2,\n",
       " 'Meal': 3,\n",
       " 'Servings': 4,\n",
       " 'Ingredients': 5,\n",
       " 'Instructions': 6,\n",
       " 'Keywords': 7}"
      ]
     },
     "execution_count": 17,
     "metadata": {},
     "output_type": "execute_result"
    }
   ],
   "source": [
    "elements = dict()\n",
    "sections = soup.find_all(\"p\", {\"style\": \"text-align: center; font-weight: bold;\"})\n",
    "for i, section in enumerate(sections):\n",
    "    elements[section.text] = i\n",
    "elements"
   ]
  },
  {
   "cell_type": "markdown",
   "id": "c2eb37e8",
   "metadata": {},
   "source": [
    "### Inspect each element"
   ]
  },
  {
   "cell_type": "code",
   "execution_count": 26,
   "id": "32950c6e",
   "metadata": {},
   "outputs": [
    {
     "name": "stdout",
     "output_type": "stream",
     "text": [
      "Preparation time is  \n",
      "Cooking time is  \n",
      "Total time is 180\n"
     ]
    }
   ],
   "source": [
    "#Preparation time\n",
    "preparation_time = 0\n",
    "cooking_time = 0\n",
    "total_time = 0\n",
    "\n",
    "html_element = soup.find_all(\"p\", {\"style\": \"text-align: center; font-weight: bold;\"})\n",
    "\n",
    "try:\n",
    "    if(html_element[elements['Preparation time']].nextSibling.nextSibling.text != None):\n",
    "        preparation_time = html_element[elements['Preparation time']].nextSibling.nextSibling.text\n",
    "except:\n",
    "    print(\"No preparation time found\")\n",
    "    \n",
    "try:\n",
    "    if(html_element[elements['Cook time']].nextSibling.nextSibling.text != None):\n",
    "        cooking_time = html_element[elements['Cook time']].nextSibling.nextSibling.text\n",
    "except:\n",
    "    print(\"No cooking time found\")\n",
    "\n",
    "try: \n",
    "    if(html_element[elements['Total time']].nextSibling.nextSibling.text != None):\n",
    "        total_time = html_element[elements['Total time']].nextSibling.nextSibling.text\n",
    "except:\n",
    "    print(\"No total time found\")\n",
    "\n",
    "print(\"Preparation time is\", preparation_time)\n",
    "print(\"Cooking time is\", cooking_time)\n",
    "print(\"Total time is\", total_time)"
   ]
  },
  {
   "cell_type": "code",
   "execution_count": 20,
   "id": "fd165ed9",
   "metadata": {},
   "outputs": [],
   "source": [
    "#Style of cooking\n",
    "styles = soup.find_all(\"p\", {\"class\": \"intList\"})\n",
    "if len(styles) != 0:\n",
    "    for style in styles:\n",
    "        print(style.get_text(strip=True))"
   ]
  },
  {
   "cell_type": "code",
   "execution_count": 21,
   "id": "4c1f2075",
   "metadata": {},
   "outputs": [
    {
     "name": "stdout",
     "output_type": "stream",
     "text": [
      "vegan-desserts\n"
     ]
    }
   ],
   "source": [
    "#Type of recipe\n",
    "try:\n",
    "    types = html_element[elements['Meal']].nextSibling.nextSibling.find_all(\"li\")\n",
    "    for type_ in types:\n",
    "        print(type_.get_text())\n",
    "except:\n",
    "    print(\"Type of recipe not found\")"
   ]
  },
  {
   "cell_type": "code",
   "execution_count": 23,
   "id": "36f553dd",
   "metadata": {},
   "outputs": [],
   "source": [
    "#Number of servings\n",
    "try:\n",
    "    html_element[elements['Servings']].nextSibling.nextSibling.get_text()\n",
    "except:\n",
    "    print(\"Number of servings not found\")"
   ]
  },
  {
   "cell_type": "code",
   "execution_count": 24,
   "id": "c8cd6d1a",
   "metadata": {},
   "outputs": [
    {
     "name": "stdout",
     "output_type": "stream",
     "text": [
      "450g/3 cups plain (all-purpose) flour, plus extra for dusting\n",
      "250g/1 cup vegan spread/margarine/butter\n",
      "55g/¼ cup caster (superfine) sugar\n",
      "185ml/¾ cup dairy-free milk of your choice\n",
      "1kg/5 cups jarred morello or sour cherries, drained (juice reserved)\n",
      "575g/2½ cups (firmly packed) light brown sugar\n",
      "Zest of ½ lemon\n",
      "2 tbsp cornflour (cornstarch), sieved\n",
      "1 tbsp ground cinnamon\n",
      "2 tsp mixed spice\n",
      "125ml/½ cup aquafaba (chick pea liquid)\n",
      "Pinch of citric acid\n",
      "230g/1 cup caster (superfine) sugar\n"
     ]
    }
   ],
   "source": [
    "#Ingredients\n",
    "try:\n",
    "    HTML_ingredients = html_element[elements['Ingredients']].nextSibling.nextSibling\n",
    "    for item in HTML_ingredients.find_all(\"li\"):\n",
    "        print(item.get_text())\n",
    "\n",
    "    if(len(HTML_ingredients.find_all(\"li\")) == 0):\n",
    "        #Ingredients\n",
    "        HTML_ingredients = HTML_ingredients[elements['Ingredients']].parent.find(\"div\", {\"class\": \"recipe-list\"}).p\n",
    "        for ingredient in HTML_ingredients.get_text().split(\"\\n\"):\n",
    "            print(ingredient)\n",
    "except:\n",
    "    print(\"List of ingredients not found\")"
   ]
  },
  {
   "cell_type": "code",
   "execution_count": 25,
   "id": "9f1092e4",
   "metadata": {},
   "outputs": [
    {
     "name": "stdout",
     "output_type": "stream",
     "text": [
      "To make the pie base, combine all the ingredients, except the milk, in a bowl. Using your fingers, rub the butter into the dry ingredients until it resembles loose, wet sand.\n",
      "Make a well in the centre and pour in the milk. Gently incorporate the milk into the flour until you have a firm dough, but be careful not to overwork it.\n",
      "Wrap the dough in plastic wrap and refrigerate for at least 30 minutes.\n",
      "Once the pastry has had time to rest, grease a 20cm (8 in) pie dish with cooking spray or some spread.\n",
      "Lightly dust a surface with flour and roll out the pastry to about 4mm (¬π/8 in) thick, ensuring it is larger than the tart tin.\n",
      "Gently roll the pastry back over your rolling pin, then unroll it over the top of the pie dish. Use your fingers to gently press the pastry into the dish.\n",
      "Carefully trim any excess pastry with a small knife. Refrigerate for another 30 minutes.\n",
      "Preheat the oven to 160°C (320°F).\n",
      "Line the pastry with a piece of baking paper, ensuring it comes up the sides, and fill with baking beads or dried legumes, such as chickpeas or lentils.\n",
      "Blind-bake for 20 minutes, then remove from the oven and leave to cool slightly before removing the baking weights and baking paper. Leave the oven on.\n",
      "To make the filling, place the cherries and 460g (2 cups) of the brown sugar in a mixing bowl and stir until the cherries are well coated in the sugar. Leave to stand for 30 minutes.\n",
      "A lot of liquid will have seeped out of the cherries, so use a fine-mesh sieve to drain the excess liquid, then return the cherries to the bowl.\n",
      "Add the remaining brown sugar, the lemon zest, cornflour and spices to the cherries and toss well to mix.\n",
      "Pour into the pastry case and bake for 30–40 minutes (or 15–25 minutes if you’re making small pies), or until the filling is bubbling and has noticeably thickened.\n",
      "Remove from the oven and set aside until cool enough to handle.\n",
      "Gently lift the pie out of the dish and place on a wire rack. (Don’t wait until the pie has completely cooled to remove it from the tin, as any bubbled-over filling can harden, causing the pastry to stick.)\n",
      "Leave to cool completely before topping with meringue.\n",
      "While the pie is cooling, prepare the meringue.\n",
      "Combine the aquafaba (chick pea liquid) and citric acid in the bowl of a freestanding electric mixer fitted with the whisk attachment.\n",
      "On medium–high speed, whisk the mixture to stiff peaks (be patient, it will take a few minutes). Reduce the speed to medium and slowly add the sugar, 1 tablespoon at a time, whisking constantly.\n",
      "Once all the sugar has been incorporated, increase the speed to high and whisk for a further 3 minutes, or until the meringue is thick and glossy.\n",
      "Use a spatula to gently spread the meringue on top of the cooled pie and toast the meringue with a blow torch until golden brown all over (don’t worry if parts turn black). Make sure you hold the torch about 20 cm (8 in) away from the pie.\n",
      "Serve immediately!\n"
     ]
    }
   ],
   "source": [
    "#Instructions\n",
    "try: \n",
    "    HTML_instructions = html_element[elements['Instructions']].nextSibling.nextSibling\n",
    "    for item in HTML_instructions.find_all(\"li\"):\n",
    "        print(item.get_text())\n",
    "except:\n",
    "    print(\"Instructions not found\")"
   ]
  },
  {
   "cell_type": "code",
   "execution_count": null,
   "id": "a99e88c8",
   "metadata": {},
   "outputs": [],
   "source": []
  }
 ],
 "metadata": {
  "kernelspec": {
   "display_name": "Python 3",
   "language": "python",
   "name": "python3"
  },
  "language_info": {
   "codemirror_mode": {
    "name": "ipython",
    "version": 3
   },
   "file_extension": ".py",
   "mimetype": "text/x-python",
   "name": "python",
   "nbconvert_exporter": "python",
   "pygments_lexer": "ipython3",
   "version": "3.8.10"
  }
 },
 "nbformat": 4,
 "nbformat_minor": 5
}
