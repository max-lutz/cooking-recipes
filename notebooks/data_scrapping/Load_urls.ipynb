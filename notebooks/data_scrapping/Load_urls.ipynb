{
 "cells": [
  {
   "cell_type": "code",
   "execution_count": 1,
   "id": "a02b2873",
   "metadata": {},
   "outputs": [],
   "source": [
    "import os\n",
    "from pathlib import Path\n",
    "import pandas as pd\n",
    "import requests\n",
    "\n",
    "from selenium.webdriver import Chrome\n",
    "from selenium.webdriver.common.keys import Keys\n",
    "\n",
    "import time"
   ]
  },
  {
   "cell_type": "code",
   "execution_count": 2,
   "id": "12d2ebea",
   "metadata": {},
   "outputs": [],
   "source": [
    "url = \"https://www.veganrecipeclub.org.uk/recipes/\"\n",
    "SCROLL_PAUSE_TIME = 3"
   ]
  },
  {
   "cell_type": "markdown",
   "id": "de0b7d93",
   "metadata": {},
   "source": [
    "## Load all urls to recipes from the website"
   ]
  },
  {
   "cell_type": "code",
   "execution_count": 4,
   "id": "7698bf88",
   "metadata": {},
   "outputs": [],
   "source": [
    "def get_html(url):  \n",
    "    #get chrome driver path\n",
    "    driver_path = os.path.join(parent(os.getcwd()), 'chromedriver', 'chromedriver.exe.')\n",
    "    #create instance of Chrome driver\n",
    "    driver = Chrome(executable_path=driver_path)\n",
    "    driver.get(url)\n",
    "\n",
    "    # Get scroll height\n",
    "    last_height = driver.execute_script(\"return document.body.scrollHeight\")\n",
    "\n",
    "    while True:\n",
    "        # Scroll down to bottom\n",
    "        driver.execute_script(\"window.scrollTo(0, document.body.scrollHeight);\")\n",
    "        # Wait to load page\n",
    "        time.sleep(SCROLL_PAUSE_TIME)\n",
    "\n",
    "        # Calculate new scroll height and compare with last scroll height\n",
    "        new_height = driver.execute_script(\"return document.body.scrollHeight\")\n",
    "        if new_height == last_height:\n",
    "            break\n",
    "        last_height = new_height\n",
    "    #load page source\n",
    "    html = driver.page_source\n",
    "    #close driver\n",
    "    driver.close()\n",
    "    return html"
   ]
  },
  {
   "cell_type": "code",
   "execution_count": 5,
   "id": "8f86dd29",
   "metadata": {},
   "outputs": [],
   "source": [
    "def get_all_urls(html):\n",
    "    urls = []\n",
    "    for link in BeautifulSoup(html, parse_only=SoupStrainer('a')):\n",
    "        if link.has_attr('href'):\n",
    "            urls.append(link['href'])\n",
    "    return urls\n",
    "\n",
    "def get_recipes_urls(urls):\n",
    "    #remove duplicate\n",
    "    urls = list(set(urls))\n",
    "    \n",
    "    #remove url that are not recipes\n",
    "    for url in urls:\n",
    "        if(url.startswith(\"https://www.veganrecipeclub.org.uk/recipes/\") == False):\n",
    "           urls.remove(url)\n",
    "    return urls"
   ]
  },
  {
   "cell_type": "code",
   "execution_count": 6,
   "id": "e9ee9ed9",
   "metadata": {},
   "outputs": [],
   "source": [
    "html = get_html(url)\n",
    "all_urls = get_all_urls(html)\n",
    "recipes_urls = get_recipes_urls(all_urls)"
   ]
  },
  {
   "cell_type": "code",
   "execution_count": 7,
   "id": "019584f7",
   "metadata": {},
   "outputs": [
    {
     "data": {
      "text/plain": [
       "696"
      ]
     },
     "execution_count": 7,
     "metadata": {},
     "output_type": "execute_result"
    }
   ],
   "source": [
    "len(recipes_urls)"
   ]
  },
  {
   "cell_type": "markdown",
   "id": "807c5504",
   "metadata": {},
   "source": [
    "As of the 4th of october 2021 we have 691 recipes"
   ]
  },
  {
   "cell_type": "code",
   "execution_count": 10,
   "id": "d5553c86",
   "metadata": {},
   "outputs": [],
   "source": [
    "#optional: save the urls to a csv file\n",
    "DATA_PATH = Path.cwd().parent.parent / \"data\" / \"raw\" / \"urls.csv\"\n",
    "urls = pd.DataFrame(recipes_urls, columns=['url'])\n",
    "urls.to_csv(DATA_PATH)"
   ]
  }
 ],
 "metadata": {
  "kernelspec": {
   "display_name": "Python 3",
   "language": "python",
   "name": "python3"
  },
  "language_info": {
   "codemirror_mode": {
    "name": "ipython",
    "version": 3
   },
   "file_extension": ".py",
   "mimetype": "text/x-python",
   "name": "python",
   "nbconvert_exporter": "python",
   "pygments_lexer": "ipython3",
   "version": "3.8.10"
  }
 },
 "nbformat": 4,
 "nbformat_minor": 5
}
